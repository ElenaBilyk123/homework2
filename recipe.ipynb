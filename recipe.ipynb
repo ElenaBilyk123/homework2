{
 "cells": [
  {
   "cell_type": "code",
   "execution_count": 182,
   "metadata": {},
   "outputs": [
    {
     "name": "stdout",
     "output_type": "stream",
     "text": [
      "{'Вода ': {'measure': ' л', 'quantity': 4},\n",
      " 'Мед ': {'measure': ' ст.л', 'quantity': 6},\n",
      " 'Молоко ': {'measure': ' мл', 'quantity': 200},\n",
      " 'Помидор ': {'measure': ' шт', 'quantity': 4},\n",
      " 'Соевый соус ': {'measure': ' мл', 'quantity': 120},\n",
      " 'Утка ': {'measure': ' шт', 'quantity': 2},\n",
      " 'Яйцо ': {'measure': ' шт', 'quantity': 4}}\n",
      "Список завершен\n"
     ]
    }
   ],
   "source": [
    "from pprint import pprint\n",
    "\n",
    "with open('recipe.txt','rt', encoding = 'utf-8') as file:\n",
    "    cook_book = {}\n",
    "    for line in file:\n",
    "        line_1 = file.readline().strip('\\n')\n",
    "        line_2 = int(file.readline())\n",
    "        counter = 0\n",
    "        list = []\n",
    "        while counter < line_2:\n",
    "            line_3 = file.readline().split('|')\n",
    "            counter += 1\n",
    "            list.append({'ingredient_name': line_3[0],'quantity': int(line_3[1]), 'measure': line_3[2].strip('\\n')})\n",
    "        cook_book[line_1] = list\n",
    "\n",
    "\n",
    "        \n",
    "            \n",
    "    def get_shop_list_by_dishes(dishes, person_count):\n",
    "        ing_dict = {}\n",
    "        for key in cook_book.keys ():\n",
    "            for dish in dishes:\n",
    "                if key == dish:\n",
    "                    for dictionary in cook_book[key]:\n",
    "                        ing_name = dictionary['ingredient_name']\n",
    "\n",
    "                        try:\n",
    "                            ing_dict[ing_name]['quantity'] += (dictionary['quantity'] * person_count)\n",
    "                        except:\n",
    "                            ing_dict[ing_name] = {'measure': dictionary['measure'],'quantity': dictionary['quantity'] * person_count}\n",
    "        return ing_dict \n",
    "            \n",
    "\n",
    "  \n",
    "\n",
    "def new_list(files): \n",
    "    numb_rows = {}\n",
    "    dic_text = {}\n",
    "    for title in files:\n",
    "        with open(title, encoding = 'utf-8') as text:\n",
    "            read_text = text.readlines()\n",
    "            lin_text = len(read_text)\n",
    "            numb_rows[lin_text] = title\n",
    "            dic_text[title] = read_text\n",
    "    dic_rows = sorted(numb_rows.items())\n",
    "\n",
    "        \n",
    "\n",
    "        \n",
    "    with open('result.txt', 'w', encoding = 'utf-8') as result:\n",
    "        for h in dic_rows:\n",
    "            result.write(f'{h[1]}\\n')\n",
    "            result.write(f'{str(h[0])}\\n')\n",
    "            result.write(f'{\"\".join(dic_text.get(h[1]))}\\n')\n",
    "    return 'Список завершен'\n",
    "\n",
    "\n",
    "pprint(get_shop_list_by_dishes(['Омлет','Утка по-пекински'], 2))\n",
    "\n",
    "\n",
    "print(new_list(['1.txt', '2.txt', '3.txt']))\n",
    "\n",
    "\n",
    "\n",
    "\n",
    "\n",
    "\n",
    "\n",
    "\n",
    "\n",
    "\n",
    "\n"
   ]
  }
 ],
 "metadata": {
  "kernelspec": {
   "display_name": "Python 3.9.13 64-bit",
   "language": "python",
   "name": "python3"
  },
  "language_info": {
   "codemirror_mode": {
    "name": "ipython",
    "version": 3
   },
   "file_extension": ".py",
   "mimetype": "text/x-python",
   "name": "python",
   "nbconvert_exporter": "python",
   "pygments_lexer": "ipython3",
   "version": "3.9.13"
  },
  "orig_nbformat": 4,
  "vscode": {
   "interpreter": {
    "hash": "403de45c562f069625382b81bb0934974a63637218ce0167b259a1ccb6a5ffa2"
   }
  }
 },
 "nbformat": 4,
 "nbformat_minor": 2
}
